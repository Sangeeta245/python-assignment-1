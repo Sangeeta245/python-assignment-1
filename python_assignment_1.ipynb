{
  "nbformat": 4,
  "nbformat_minor": 0,
  "metadata": {
    "colab": {
      "name": "python assignment 1",
      "provenance": []
    },
    "kernelspec": {
      "name": "python3",
      "display_name": "Python 3"
    },
    "language_info": {
      "name": "python"
    }
  },
  "cells": [
    {
      "cell_type": "markdown",
      "metadata": {
        "id": "6azpN9o8DBmf"
      },
      "source": [
        "# **1. Write a program which will find all such numbers which are divisible by 7 but are not a multiple of 5, between 2000 and 3200 (both included). The numbers obtained should be printed  in a comma-separated sequence on a single line.**"
      ]
    },
    {
      "cell_type": "code",
      "metadata": {
        "colab": {
          "base_uri": "https://localhost:8080/"
        },
        "id": "mVK8ub4SDNaA",
        "outputId": "f71089a2-8929-4e4f-eb98-9d76c1ccefe7"
      },
      "source": [
        "n=[]\n",
        "for x in range(2000, 3200):\n",
        "    if (x%7==0) and (x%5==0):\n",
        "        n.append(str(x))\n",
        "print (','.join(n))"
      ],
      "execution_count": 1,
      "outputs": [
        {
          "output_type": "stream",
          "text": [
            "2030,2065,2100,2135,2170,2205,2240,2275,2310,2345,2380,2415,2450,2485,2520,2555,2590,2625,2660,2695,2730,2765,2800,2835,2870,2905,2940,2975,3010,3045,3080,3115,3150,3185\n"
          ],
          "name": "stdout"
        }
      ]
    },
    {
      "cell_type": "markdown",
      "metadata": {
        "id": "NOE9r83Bwdn8"
      },
      "source": [
        "# **2. Write a Python program to accept the user's first and last name and then get them printed in the reverse order with a space between first name and last name.** "
      ]
    },
    {
      "cell_type": "code",
      "metadata": {
        "colab": {
          "base_uri": "https://localhost:8080/"
        },
        "id": "9dSME9JpT22R",
        "outputId": "b59ab7c6-977a-4c86-837d-dfafa8ac7bb3"
      },
      "source": [
        "first_name = input(\"Write your First Name : \")"
      ],
      "execution_count": 7,
      "outputs": [
        {
          "output_type": "stream",
          "text": [
            "Write your First Name : Sangeeta\n"
          ],
          "name": "stdout"
        }
      ]
    },
    {
      "cell_type": "code",
      "metadata": {
        "colab": {
          "base_uri": "https://localhost:8080/"
        },
        "id": "xtl3JMqpUhUi",
        "outputId": "63fd44c9-d3f3-466d-990b-187c63ef0e80"
      },
      "source": [
        "last_name = input(\"Write your Last Name : \")"
      ],
      "execution_count": 8,
      "outputs": [
        {
          "output_type": "stream",
          "text": [
            "Write your Last Name : Nahar\n"
          ],
          "name": "stdout"
        }
      ]
    },
    {
      "cell_type": "code",
      "metadata": {
        "colab": {
          "base_uri": "https://localhost:8080/"
        },
        "id": "HQ3CscDZUlS0",
        "outputId": "8306d37a-8592-4719-c208-c623da93e773"
      },
      "source": [
        "print(last_name + \" \" + first_name)"
      ],
      "execution_count": 12,
      "outputs": [
        {
          "output_type": "stream",
          "text": [
            "Nahar Sangeeta\n"
          ],
          "name": "stdout"
        }
      ]
    },
    {
      "cell_type": "markdown",
      "metadata": {
        "id": "NfoyNHqGW-_U"
      },
      "source": [
        "# **3. Write a Python program to find the volume of a sphere with diameter 12 cm.Formula: V=4/3 * π * r^3**\n"
      ]
    },
    {
      "cell_type": "code",
      "metadata": {
        "colab": {
          "base_uri": "https://localhost:8080/"
        },
        "id": "kill1WUHXhBI",
        "outputId": "83f8e9b0-ed3a-4706-bf29-755ae8a14c1b"
      },
      "source": [
        "pi=3.1415926535897931\n",
        "d=12\n",
        "r=d/2\n",
        "V=(4/3)*pi*r**3\n",
        "print('The volume of the sphere is: ',V)"
      ],
      "execution_count": 20,
      "outputs": [
        {
          "output_type": "stream",
          "text": [
            "The volume of the sphere is:  904.7786842338603\n"
          ],
          "name": "stdout"
        }
      ]
    }
  ]
}